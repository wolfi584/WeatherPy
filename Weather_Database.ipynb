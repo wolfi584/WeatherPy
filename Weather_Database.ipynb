{
 "cells": [
  {
   "cell_type": "code",
   "execution_count": null,
   "metadata": {},
   "outputs": [],
   "source": [
    "# Import the random module.\n",
    "import random"
   ]
  },
  {
   "cell_type": "code",
   "execution_count": null,
   "metadata": {},
   "outputs": [],
   "source": [
    "# Import the dependencies.\n",
    "import pandas as pd\n",
    "import matplotlib.pyplot as plt\n",
    "import numpy as np"
   ]
  },
  {
   "cell_type": "code",
   "execution_count": null,
   "metadata": {},
   "outputs": [],
   "source": [
    "# Create a set of random latitude and longitude combinations.\n",
    "lats = np.random.uniform(low=-90.000, high=90.000, size=2000)\n",
    "lngs = np.random.uniform(low=-180.000, high=180.000, size=2000)\n",
    "lat_lngs = zip(lats, lngs)\n",
    "lat_lngs"
   ]
  },
  {
   "cell_type": "code",
   "execution_count": null,
   "metadata": {},
   "outputs": [],
   "source": [
    "    # Use the tuple() function to display the latitude and longitude combinations.\n",
    "    for coordinate in coordinates:\n",
    "        print(coordinate[0], coordinate[1])"
   ]
  },
  {
   "cell_type": "code",
   "execution_count": null,
   "metadata": {},
   "outputs": [],
   "source": [
    "# Use the citipy module to determine city based on latitude and longitude.\n",
    "from citipy import citipy"
   ]
  },
  {
   "cell_type": "code",
   "execution_count": null,
   "metadata": {},
   "outputs": [],
   "source": [
    "# Use the tuple() function to display the latitude and longitude combinations.\n",
    "for coordinate in coordinates:\n",
    "    print(citipy.nearest_city(coordinate[0], coordinate[1]).city_name,\n",
    "          citipy.nearest_city(coordinate[0], coordinate[1]).country_code)"
   ]
  },
  {
   "cell_type": "code",
   "execution_count": null,
   "metadata": {},
   "outputs": [],
   "source": []
  },
  {
   "cell_type": "code",
   "execution_count": null,
   "metadata": {},
   "outputs": [],
   "source": [
    "# Retrieve the following information from the API call:\n",
    "\n",
    "# Latitude and longitude\n",
    "# Maximum temperature\n",
    "# Percent humidity\n",
    "# Percent cloudiness\n",
    "# Wind speed\n",
    "# Weather description (for example, clouds, fog, light rain, clear sky)"
   ]
  },
  {
   "cell_type": "code",
   "execution_count": null,
   "metadata": {},
   "outputs": [],
   "source": [
    "# Import the requests library.\n",
    "import requests\n",
    "\n",
    "# Import the API key.\n",
    "from config import weather_api_key"
   ]
  },
  {
   "cell_type": "code",
   "execution_count": null,
   "metadata": {},
   "outputs": [],
   "source": [
    "# Starting URL for Weather Map API Call.\n",
    "url = \"http://api.openweathermap.org/data/2.5/weather?units=Imperial&APPID=\" + weather_api_key\n",
    "print(url)"
   ]
  },
  {
   "cell_type": "code",
   "execution_count": null,
   "metadata": {},
   "outputs": [],
   "source": [
    "# Run an API request for each of the cities.\n",
    "    try:\n",
    "        # Parse the JSON and retrieve data.\n",
    "        city_weather = requests.get(city_url).json()\n",
    "        # Parse out the needed data.\n",
    "        city_lat = city_weather[\"coord\"][\"lat\"]\n",
    "        city_lng = city_weather[\"coord\"][\"lon\"]\n",
    "        city_max_temp = city_weather[\"main\"][\"temp_max\"]\n",
    "        city_humidity = city_weather[\"main\"][\"humidity\"]\n",
    "        city_clouds = city_weather[\"clouds\"][\"all\"]\n",
    "        city_wind = city_weather[\"wind\"][\"speed\"]\n",
    "        city_country = city_weather[\"sys\"][\"country\"]\n",
    "        # Convert the date to ISO standard.\n",
    "        city_date = datetime.utcfromtimestamp(city_weather[\"dt\"]).strftime('%Y-%m-%d %H:%M:%S')\n",
    "        # Append the city information into city_data list.\n",
    "        city_data.append({\"City\": city.title(),\n",
    "                          \"Lat\": city_lat,\n",
    "                          \"Lng\": city_lng,\n",
    "                          \"Max Temp\": city_max_temp,\n",
    "                          \"Humidity\": city_humidity,\n",
    "                          \"Cloudiness\": city_clouds,\n",
    "                          \"Wind Speed\": city_wind,\n",
    "                          \"Country\": city_country,\n",
    "                          \"Date\": city_date})\n",
    "\n",
    "# If an error is experienced, skip the city.\n",
    "    except:\n",
    "        print(\"City not found. Skipping...\")\n",
    "        pass\n",
    "\n",
    "# Indicate that Data Loading is complete.\n",
    "print(\"-----------------------------\")\n",
    "print(\"Data Retrieval Complete      \")\n",
    "print(\"-----------------------------\")\n",
    "Let's review the code:"
   ]
  },
  {
   "cell_type": "code",
   "execution_count": null,
   "metadata": {},
   "outputs": [],
   "source": [
    "# Convert the array of dictionaries to a Pandas DataFrame.\n",
    "city_data_df = pd.DataFrame(city_data)\n",
    "city_data_df.head(10)"
   ]
  },
  {
   "cell_type": "code",
   "execution_count": null,
   "metadata": {},
   "outputs": [],
   "source": [
    "# Create the output file (CSV).\n",
    "output_data_file = \"weather_data/cities.csv\"\n",
    "# Export the City_Data into a CSV.\n",
    "city_data_df.to_csv(output_data_file, index_label=\"City_ID\")"
   ]
  },
  {
   "cell_type": "code",
   "execution_count": null,
   "metadata": {},
   "outputs": [],
   "source": []
  }
 ],
 "metadata": {
  "kernelspec": {
   "display_name": "PythonData",
   "language": "python",
   "name": "pythondata"
  }
 },
 "nbformat": 4,
 "nbformat_minor": 4
}
