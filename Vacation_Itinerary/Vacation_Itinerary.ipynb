{
 "cells": [
  {
   "cell_type": "markdown",
   "metadata": {},
   "source": [
    "## Deliverable 3. Create a Travel Itinerary Map."
   ]
  },
  {
   "cell_type": "code",
   "execution_count": 1,
   "metadata": {},
   "outputs": [],
   "source": [
    "# Dependencies and Setup\n",
    "import pandas as pd\n",
    "import requests\n",
    "import gmaps\n",
    "import gmaps.datasets\n",
    "\n",
    "# Import API key\n",
    "from config import g_key\n",
    "\n",
    "# Configure gmaps\n",
    "gmaps.configure(api_key=g_key)"
   ]
  },
  {
   "cell_type": "code",
   "execution_count": 2,
   "metadata": {},
   "outputs": [
    {
     "data": {
      "text/html": [
       "<div>\n",
       "<style scoped>\n",
       "    .dataframe tbody tr th:only-of-type {\n",
       "        vertical-align: middle;\n",
       "    }\n",
       "\n",
       "    .dataframe tbody tr th {\n",
       "        vertical-align: top;\n",
       "    }\n",
       "\n",
       "    .dataframe thead th {\n",
       "        text-align: right;\n",
       "    }\n",
       "</style>\n",
       "<table border=\"1\" class=\"dataframe\">\n",
       "  <thead>\n",
       "    <tr style=\"text-align: right;\">\n",
       "      <th></th>\n",
       "      <th>City_ID</th>\n",
       "      <th>City</th>\n",
       "      <th>Country</th>\n",
       "      <th>Max Temp</th>\n",
       "      <th>Lat</th>\n",
       "      <th>Lng</th>\n",
       "      <th>Current Description</th>\n",
       "      <th>Hotel Name</th>\n",
       "    </tr>\n",
       "  </thead>\n",
       "  <tbody>\n",
       "    <tr>\n",
       "      <th>0</th>\n",
       "      <td>3</td>\n",
       "      <td>Hoi An</td>\n",
       "      <td>VN</td>\n",
       "      <td>87.76</td>\n",
       "      <td>15.8794</td>\n",
       "      <td>108.3350</td>\n",
       "      <td>overcast clouds</td>\n",
       "      <td>Belle Maison Hadana Hoi An managed by H&amp;K Hosp...</td>\n",
       "    </tr>\n",
       "    <tr>\n",
       "      <th>1</th>\n",
       "      <td>4</td>\n",
       "      <td>Winnemucca</td>\n",
       "      <td>US</td>\n",
       "      <td>69.12</td>\n",
       "      <td>40.9730</td>\n",
       "      <td>-117.7357</td>\n",
       "      <td>clear sky</td>\n",
       "      <td>Winners Inn Casino</td>\n",
       "    </tr>\n",
       "    <tr>\n",
       "      <th>2</th>\n",
       "      <td>5</td>\n",
       "      <td>Sao Jose Da Coroa Grande</td>\n",
       "      <td>BR</td>\n",
       "      <td>80.85</td>\n",
       "      <td>-8.8978</td>\n",
       "      <td>-35.1478</td>\n",
       "      <td>broken clouds</td>\n",
       "      <td>Crôa Mares Hotel</td>\n",
       "    </tr>\n",
       "    <tr>\n",
       "      <th>3</th>\n",
       "      <td>6</td>\n",
       "      <td>Anahuac</td>\n",
       "      <td>MX</td>\n",
       "      <td>83.70</td>\n",
       "      <td>27.2333</td>\n",
       "      <td>-100.1500</td>\n",
       "      <td>broken clouds</td>\n",
       "      <td>Rancho Guadalupe</td>\n",
       "    </tr>\n",
       "    <tr>\n",
       "      <th>4</th>\n",
       "      <td>9</td>\n",
       "      <td>Ust-Ishim</td>\n",
       "      <td>RU</td>\n",
       "      <td>63.77</td>\n",
       "      <td>57.6935</td>\n",
       "      <td>71.1665</td>\n",
       "      <td>broken clouds</td>\n",
       "      <td>Velichko T.p., Gostinitsa</td>\n",
       "    </tr>\n",
       "  </tbody>\n",
       "</table>\n",
       "</div>"
      ],
      "text/plain": [
       "   City_ID                      City Country  Max Temp      Lat       Lng  \\\n",
       "0        3                    Hoi An      VN     87.76  15.8794  108.3350   \n",
       "1        4                Winnemucca      US     69.12  40.9730 -117.7357   \n",
       "2        5  Sao Jose Da Coroa Grande      BR     80.85  -8.8978  -35.1478   \n",
       "3        6                   Anahuac      MX     83.70  27.2333 -100.1500   \n",
       "4        9                 Ust-Ishim      RU     63.77  57.6935   71.1665   \n",
       "\n",
       "  Current Description                                         Hotel Name  \n",
       "0     overcast clouds  Belle Maison Hadana Hoi An managed by H&K Hosp...  \n",
       "1           clear sky                                 Winners Inn Casino  \n",
       "2       broken clouds                                   Crôa Mares Hotel  \n",
       "3       broken clouds                                   Rancho Guadalupe  \n",
       "4       broken clouds                          Velichko T.p., Gostinitsa  "
      ]
     },
     "execution_count": 2,
     "metadata": {},
     "output_type": "execute_result"
    }
   ],
   "source": [
    "# 1. Read the WeatherPy_vacation.csv into a DataFrame.\n",
    "clean_hotel_df = pd.read_csv(\"../Vacation_Search/WeatherPy_vacation.csv\")\n",
    "clean_hotel_df.head()"
   ]
  },
  {
   "cell_type": "code",
   "execution_count": 3,
   "metadata": {},
   "outputs": [],
   "source": [
    "# 2. Using the template add the city name, the country code, the weather description and maximum temperature for the city.\n",
    "info_box_template = \"\"\"\n",
    "<dl>\n",
    "<dt>City</dt><dd>{City}</dd>\n",
    "<dt>Country</dt><dd>{Country}</dd>\n",
    "<dt>Current Weather</dt><dd>{Current Description} and {Max Temp} °F</dd>\n",
    "</dl>\n",
    "\"\"\"\n",
    "\n",
    "# 3a. Get the data from each row and add it to the formatting template and store the data in a list.\n",
    "hotel_info = [info_box_template.format(**row) for index, row in clean_hotel_df.iterrows()]\n",
    "\n",
    "# 3b. Get the latitude and longitude from each row and store in a new DataFrame.\n",
    "locations = clean_hotel_df[[\"Lat\", \"Lng\"]]"
   ]
  },
  {
   "cell_type": "code",
   "execution_count": 4,
   "metadata": {},
   "outputs": [
    {
     "data": {
      "application/vnd.jupyter.widget-view+json": {
       "model_id": "3ebf01af45f54e538e7c669a8eef2f1e",
       "version_major": 2,
       "version_minor": 0
      },
      "text/plain": [
       "Figure(layout=FigureLayout(height='420px'))"
      ]
     },
     "metadata": {},
     "output_type": "display_data"
    }
   ],
   "source": [
    "# 4a. Add a marker layer for each city to the map.\n",
    "fig = gmaps.figure(center=(30.0, 31.0), zoom_level=1.5)\n",
    "marker_layer = gmaps.marker_layer(locations, info_box_content=hotel_info)\n",
    "\n",
    "#fig.add_layer(marker_layer)\n",
    "fig.add_layer(marker_layer)\n",
    "\n",
    "# 4b. Display the figure\n",
    "fig"
   ]
  },
  {
   "cell_type": "code",
   "execution_count": 5,
   "metadata": {},
   "outputs": [],
   "source": [
    "# From the map above pick 4 cities and create a vacation itinerary route to travel between the four cities. \n",
    "# 5. Create DataFrames for each city by filtering the 'vacation_df' using the loc method. \n",
    "# Hint: The starting and ending city should be the same city.\n",
    "\n",
    "vacation_start = clean_hotel_df.loc[clean_hotel_df[\"City\"] == 'Dordrecht']\n",
    "vacation_end   = clean_hotel_df.loc[clean_hotel_df[\"City\"] == 'Dordrecht']\n",
    "vacation_stop1 = clean_hotel_df.loc[clean_hotel_df[\"City\"] == 'Zary']\n",
    "vacation_stop2 = clean_hotel_df.loc[clean_hotel_df[\"City\"] == 'Leczna']\n",
    "vacation_stop3 = clean_hotel_df.loc[clean_hotel_df[\"City\"] == 'Zadar']"
   ]
  },
  {
   "cell_type": "code",
   "execution_count": 6,
   "metadata": {},
   "outputs": [],
   "source": [
    "# 6. Get the latitude-longitude pairs as tuples from each city DataFrame using the to_numpy function and list indexing.\n",
    "start = (vacation_start[\"Lat\"].values[0], vacation_start[\"Lng\"].values[0])\n",
    "stop1 = (vacation_stop1[\"Lat\"].values[0], vacation_stop1[\"Lng\"].values[0])\n",
    "stop2 = (vacation_stop2[\"Lat\"].values[0], vacation_stop2[\"Lng\"].values[0])\n",
    "stop3 = (vacation_stop3[\"Lat\"].values[0], vacation_stop3[\"Lng\"].values[0])\n",
    "end   = (vacation_end[\"Lat\"].values[0], vacation_end[\"Lng\"].values[0])\n"
   ]
  },
  {
   "cell_type": "code",
   "execution_count": 7,
   "metadata": {
    "scrolled": true
   },
   "outputs": [],
   "source": [
    "# 7. Create a direction layer map using the start and end latitude-longitude pairs,\n",
    "# and stop1, stop2, and stop3 as the waypoints. The travel_mode should be \"DRIVING\", \"BICYCLING\", or \"WALKING\".\n",
    "start2end = gmaps.directions_layer(start, end, waypoints=[stop1,stop2,stop3], travel_mode='DRIVING')\n",
    "\n"
   ]
  },
  {
   "cell_type": "code",
   "execution_count": 8,
   "metadata": {},
   "outputs": [
    {
     "data": {
      "text/html": [
       "<div>\n",
       "<style scoped>\n",
       "    .dataframe tbody tr th:only-of-type {\n",
       "        vertical-align: middle;\n",
       "    }\n",
       "\n",
       "    .dataframe tbody tr th {\n",
       "        vertical-align: top;\n",
       "    }\n",
       "\n",
       "    .dataframe thead th {\n",
       "        text-align: right;\n",
       "    }\n",
       "</style>\n",
       "<table border=\"1\" class=\"dataframe\">\n",
       "  <thead>\n",
       "    <tr style=\"text-align: right;\">\n",
       "      <th></th>\n",
       "      <th>City_ID</th>\n",
       "      <th>City</th>\n",
       "      <th>Country</th>\n",
       "      <th>Max Temp</th>\n",
       "      <th>Lat</th>\n",
       "      <th>Lng</th>\n",
       "      <th>Current Description</th>\n",
       "      <th>Hotel Name</th>\n",
       "    </tr>\n",
       "  </thead>\n",
       "  <tbody>\n",
       "    <tr>\n",
       "      <th>0</th>\n",
       "      <td>30</td>\n",
       "      <td>Dordrecht</td>\n",
       "      <td>NL</td>\n",
       "      <td>75.06</td>\n",
       "      <td>51.8100</td>\n",
       "      <td>4.6736</td>\n",
       "      <td>clear sky</td>\n",
       "      <td>Bastion Hotel Dordrecht - Papendrecht</td>\n",
       "    </tr>\n",
       "    <tr>\n",
       "      <th>1</th>\n",
       "      <td>522</td>\n",
       "      <td>Zary</td>\n",
       "      <td>PL</td>\n",
       "      <td>64.96</td>\n",
       "      <td>51.6421</td>\n",
       "      <td>15.1373</td>\n",
       "      <td>scattered clouds</td>\n",
       "      <td>Hotel i Restauracja Janków</td>\n",
       "    </tr>\n",
       "    <tr>\n",
       "      <th>2</th>\n",
       "      <td>643</td>\n",
       "      <td>Leczna</td>\n",
       "      <td>PL</td>\n",
       "      <td>61.34</td>\n",
       "      <td>51.3012</td>\n",
       "      <td>22.8814</td>\n",
       "      <td>few clouds</td>\n",
       "      <td>Pokoje gościnne 30stka</td>\n",
       "    </tr>\n",
       "    <tr>\n",
       "      <th>3</th>\n",
       "      <td>591</td>\n",
       "      <td>Zadar</td>\n",
       "      <td>HR</td>\n",
       "      <td>72.64</td>\n",
       "      <td>44.1197</td>\n",
       "      <td>15.2422</td>\n",
       "      <td>few clouds</td>\n",
       "      <td>Hotel Kolovare</td>\n",
       "    </tr>\n",
       "  </tbody>\n",
       "</table>\n",
       "</div>"
      ],
      "text/plain": [
       "   City_ID       City Country  Max Temp      Lat      Lng Current Description  \\\n",
       "0       30  Dordrecht      NL     75.06  51.8100   4.6736           clear sky   \n",
       "1      522       Zary      PL     64.96  51.6421  15.1373    scattered clouds   \n",
       "2      643     Leczna      PL     61.34  51.3012  22.8814          few clouds   \n",
       "3      591      Zadar      HR     72.64  44.1197  15.2422          few clouds   \n",
       "\n",
       "                              Hotel Name  \n",
       "0  Bastion Hotel Dordrecht - Papendrecht  \n",
       "1             Hotel i Restauracja Janków  \n",
       "2                 Pokoje gościnne 30stka  \n",
       "3                         Hotel Kolovare  "
      ]
     },
     "execution_count": 8,
     "metadata": {},
     "output_type": "execute_result"
    }
   ],
   "source": [
    "# 8. To create a marker layer map between the four cities.\n",
    "#  Combine the four city DataFrames into one DataFrame using the concat() function.\n",
    "itinerary_df = pd.concat([clean_hotel_df.loc[clean_hotel_df[\"City\"] == 'Dordrecht'],\n",
    "                         clean_hotel_df.loc[clean_hotel_df[\"City\"] == 'Zary'],\n",
    "                         clean_hotel_df.loc[clean_hotel_df[\"City\"] == 'Leczna'],\n",
    "                         clean_hotel_df.loc[clean_hotel_df[\"City\"] == 'Zadar']],ignore_index=True)\n",
    "itinerary_df"
   ]
  },
  {
   "cell_type": "code",
   "execution_count": 9,
   "metadata": {},
   "outputs": [],
   "source": [
    "# 9 Using the template add city name, the country code, the weather description and maximum temperature for the city. \n",
    "info_box_template = \"\"\"\n",
    "<dl>\n",
    "<dt>City</dt><dd>{City}</dd>\n",
    "<dt>Country</dt><dd>{Country}</dd>\n",
    "<dt>Current Weather</dt><dd>{Current Description} and {Max Temp} °F</dd>\n",
    "</dl>\n",
    "\"\"\"\n",
    "\n",
    "# 10a Get the data from each row and add it to the formatting template and store the data in a list.\n",
    "hotel_info = [info_box_template.format(**row) for index, row in itinerary_df.iterrows()]\n",
    "\n",
    "# 10b. Get the latitude and longitude from each row and store in a new DataFrame.\n",
    "locations = itinerary_df[[\"Lat\", \"Lng\"]]\n"
   ]
  },
  {
   "cell_type": "code",
   "execution_count": 10,
   "metadata": {
    "scrolled": true
   },
   "outputs": [
    {
     "data": {
      "application/vnd.jupyter.widget-view+json": {
       "model_id": "d28df826b34640d58e13b9fd75d55426",
       "version_major": 2,
       "version_minor": 0
      },
      "text/plain": [
       "Figure(layout=FigureLayout(height='420px'))"
      ]
     },
     "metadata": {},
     "output_type": "display_data"
    }
   ],
   "source": [
    "# 11a. Add a marker layer for each city to the map.\n",
    "marker_layer = gmaps.marker_layer(locations, info_box_content=hotel_info)\n",
    "\n",
    "fig = gmaps.figure()\n",
    "fig.add_layer(start2end)\n",
    "fig.add_layer(marker_layer)\n",
    "\n",
    "# 11b. Display the figure\n",
    "fig #Route\n"
   ]
  },
  {
   "cell_type": "code",
   "execution_count": 11,
   "metadata": {},
   "outputs": [
    {
     "data": {
      "application/vnd.jupyter.widget-view+json": {
       "model_id": "7a6458e97dfe46e7aa84dd4938b4697c",
       "version_major": 2,
       "version_minor": 0
      },
      "text/plain": [
       "Figure(layout=FigureLayout(height='420px'))"
      ]
     },
     "metadata": {},
     "output_type": "display_data"
    }
   ],
   "source": [
    "# 11a. Add a marker layer for each city to the map.\n",
    "marker_layer = gmaps.marker_layer(locations, info_box_content=hotel_info)\n",
    "\n",
    "fig = gmaps.figure()\n",
    "#fig.add_layer(start2end)\n",
    "fig.add_layer(marker_layer)\n",
    "\n",
    "fig #Markers"
   ]
  },
  {
   "cell_type": "code",
   "execution_count": 12,
   "metadata": {},
   "outputs": [
    {
     "data": {
      "application/vnd.jupyter.widget-view+json": {
       "model_id": "749bec690c3340cb83e1403e76a5e5f3",
       "version_major": 2,
       "version_minor": 0
      },
      "text/plain": [
       "Figure(layout=FigureLayout(height='420px'))"
      ]
     },
     "metadata": {},
     "output_type": "display_data"
    }
   ],
   "source": [
    "# 11a. Add a marker layer for each city to the map.\n",
    "marker_layer = gmaps.marker_layer(locations, info_box_content=hotel_info)\n",
    "start2end    = gmaps.directions_layer(start, end, waypoints=[stop1,stop2,stop3], travel_mode='DRIVING', show_markers=False)\n",
    "\n",
    "fig = gmaps.figure()\n",
    "fig.add_layer(start2end)\n",
    "fig.add_layer(marker_layer)\n",
    "\n",
    "fig #Route + Markers"
   ]
  },
  {
   "cell_type": "code",
   "execution_count": null,
   "metadata": {},
   "outputs": [],
   "source": []
  }
 ],
 "metadata": {
  "kernelspec": {
   "display_name": "PythonData",
   "language": "python",
   "name": "pythondata"
  },
  "language_info": {
   "codemirror_mode": {
    "name": "ipython",
    "version": 3
   },
   "file_extension": ".py",
   "mimetype": "text/x-python",
   "name": "python",
   "nbconvert_exporter": "python",
   "pygments_lexer": "ipython3",
   "version": "3.8.5"
  },
  "latex_envs": {
   "LaTeX_envs_menu_present": true,
   "autoclose": false,
   "autocomplete": true,
   "bibliofile": "biblio.bib",
   "cite_by": "apalike",
   "current_citInitial": 1,
   "eqLabelWithNumbers": true,
   "eqNumInitial": 1,
   "hotkeys": {
    "equation": "Ctrl-E",
    "itemize": "Ctrl-I"
   },
   "labels_anchors": false,
   "latex_user_defs": false,
   "report_style_numbering": false,
   "user_envs_cfg": false
  }
 },
 "nbformat": 4,
 "nbformat_minor": 2
}
